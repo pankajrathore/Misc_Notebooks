{
 "cells": [
  {
   "cell_type": "code",
   "execution_count": 1,
   "metadata": {},
   "outputs": [
    {
     "name": "stdout",
     "output_type": "stream",
     "text": [
      "\u001b[34mApplications\u001b[m\u001b[m/               \u001b[34mVirtualBox VMs\u001b[m\u001b[m/\r\n",
      "\u001b[34mDesktop\u001b[m\u001b[m/                    \u001b[34mbd\u001b[m\u001b[m/\r\n",
      "\u001b[34mDocuments\u001b[m\u001b[m/                  \u001b[34mbin\u001b[m\u001b[m/\r\n",
      "\u001b[34mDownloads\u001b[m\u001b[m/                  hub-cfssl-3.7.1.tar\r\n",
      "\u001b[34mLibrary\u001b[m\u001b[m/                    hub-jobrunner-3.7.1.tar\r\n",
      "\u001b[34mMovies\u001b[m\u001b[m/                     hub-logstash-3.7.1.tar\r\n",
      "\u001b[34mMusic\u001b[m\u001b[m/                      hub-nginx-3.7.1.tar\r\n",
      "\u001b[34mPictures\u001b[m\u001b[m/                   hub-postgres-3.7.1.tar\r\n",
      "\u001b[34mPublic\u001b[m\u001b[m/                     hub-registration-3.7.1.tar\r\n",
      "\u001b[34mSTS\u001b[m\u001b[m/                        hub-solr-3.7.1.tar\r\n",
      "Untitled.ipynb              hub-webapp-3.7.1.tar\r\n",
      "Untitled1.ipynb             hub-zookeeper-3.7.1.tar\r\n",
      "Untitled2.ipynb             \u001b[34mpytho3\u001b[m\u001b[m/\r\n",
      "Untitled3.ipynb\r\n"
     ]
    }
   ],
   "source": [
    "ls\n"
   ]
  },
  {
   "cell_type": "code",
   "execution_count": 2,
   "metadata": {},
   "outputs": [
    {
     "name": "stdout",
     "output_type": "stream",
     "text": [
      "/Users/pankajrathore/pytho3\n"
     ]
    }
   ],
   "source": [
    "cd pytho3/\n"
   ]
  },
  {
   "cell_type": "code",
   "execution_count": 3,
   "metadata": {},
   "outputs": [
    {
     "name": "stdout",
     "output_type": "stream",
     "text": [
      "\"support.py\"  support.py\r\n"
     ]
    }
   ],
   "source": [
    "ls"
   ]
  },
  {
   "cell_type": "code",
   "execution_count": 4,
   "metadata": {},
   "outputs": [
    {
     "name": "stdout",
     "output_type": "stream",
     "text": [
      "\"support.py\"  support.py\r\n"
     ]
    }
   ],
   "source": [
    "ls"
   ]
  },
  {
   "cell_type": "code",
   "execution_count": 5,
   "metadata": {},
   "outputs": [
    {
     "name": "stdout",
     "output_type": "stream",
     "text": [
      "\"support.py\"  support.py\r\n"
     ]
    }
   ],
   "source": [
    "ls"
   ]
  },
  {
   "cell_type": "code",
   "execution_count": 6,
   "metadata": {},
   "outputs": [],
   "source": [
    "import support"
   ]
  },
  {
   "cell_type": "code",
   "execution_count": 7,
   "metadata": {},
   "outputs": [
    {
     "data": {
      "text/plain": [
       "4"
      ]
     },
     "execution_count": 7,
     "metadata": {},
     "output_type": "execute_result"
    }
   ],
   "source": [
    "2+2"
   ]
  },
  {
   "cell_type": "code",
   "execution_count": null,
   "metadata": {},
   "outputs": [],
   "source": []
  }
 ],
 "metadata": {
  "kernelspec": {
   "display_name": "Python 3",
   "language": "python",
   "name": "python3"
  },
  "language_info": {
   "codemirror_mode": {
    "name": "ipython",
    "version": 3
   },
   "file_extension": ".py",
   "mimetype": "text/x-python",
   "name": "python",
   "nbconvert_exporter": "python",
   "pygments_lexer": "ipython3",
   "version": "3.7.3"
  }
 },
 "nbformat": 4,
 "nbformat_minor": 2
}
